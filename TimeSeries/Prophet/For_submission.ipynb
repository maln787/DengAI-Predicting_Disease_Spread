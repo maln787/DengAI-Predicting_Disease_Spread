{
 "cells": [
  {
   "cell_type": "code",
   "execution_count": 30,
   "id": "156eaea0",
   "metadata": {},
   "outputs": [],
   "source": [
    "import pandas as pd"
   ]
  },
  {
   "cell_type": "code",
   "execution_count": 31,
   "id": "6ba67f48",
   "metadata": {},
   "outputs": [],
   "source": [
    "import numpy as np"
   ]
  },
  {
   "cell_type": "code",
   "execution_count": null,
   "id": "64dc87f2",
   "metadata": {},
   "outputs": [],
   "source": []
  },
  {
   "cell_type": "code",
   "execution_count": 32,
   "id": "81770663",
   "metadata": {},
   "outputs": [],
   "source": [
    "fore_sj = pd.read_csv('forecast_sj_new.csv')"
   ]
  },
  {
   "cell_type": "code",
   "execution_count": 33,
   "id": "0e9601c3",
   "metadata": {},
   "outputs": [],
   "source": [
    "fore_iq = pd.read_csv('forecast_iq_new.csv')"
   ]
  },
  {
   "cell_type": "code",
   "execution_count": 34,
   "id": "aad73ff9",
   "metadata": {},
   "outputs": [
    {
     "data": {
      "text/plain": [
       "(260, 26)"
      ]
     },
     "execution_count": 34,
     "metadata": {},
     "output_type": "execute_result"
    }
   ],
   "source": [
    "fore_sj.shape"
   ]
  },
  {
   "cell_type": "code",
   "execution_count": 35,
   "id": "2892a226",
   "metadata": {},
   "outputs": [
    {
     "data": {
      "text/html": [
       "<div>\n",
       "<style scoped>\n",
       "    .dataframe tbody tr th:only-of-type {\n",
       "        vertical-align: middle;\n",
       "    }\n",
       "\n",
       "    .dataframe tbody tr th {\n",
       "        vertical-align: top;\n",
       "    }\n",
       "\n",
       "    .dataframe thead th {\n",
       "        text-align: right;\n",
       "    }\n",
       "</style>\n",
       "<table border=\"1\" class=\"dataframe\">\n",
       "  <thead>\n",
       "    <tr style=\"text-align: right;\">\n",
       "      <th></th>\n",
       "      <th>Unnamed: 0</th>\n",
       "      <th>ds</th>\n",
       "      <th>trend</th>\n",
       "      <th>yhat_lower</th>\n",
       "      <th>yhat_upper</th>\n",
       "      <th>trend_lower</th>\n",
       "      <th>trend_upper</th>\n",
       "      <th>avg_ndvi</th>\n",
       "      <th>avg_ndvi_lower</th>\n",
       "      <th>avg_ndvi_upper</th>\n",
       "      <th>...</th>\n",
       "      <th>multiplicative_terms</th>\n",
       "      <th>multiplicative_terms_lower</th>\n",
       "      <th>multiplicative_terms_upper</th>\n",
       "      <th>yearly</th>\n",
       "      <th>yearly_lower</th>\n",
       "      <th>yearly_upper</th>\n",
       "      <th>additive_terms</th>\n",
       "      <th>additive_terms_lower</th>\n",
       "      <th>additive_terms_upper</th>\n",
       "      <th>yhat</th>\n",
       "    </tr>\n",
       "  </thead>\n",
       "  <tbody>\n",
       "    <tr>\n",
       "      <th>0</th>\n",
       "      <td>0</td>\n",
       "      <td>2008-04-29</td>\n",
       "      <td>31.994144</td>\n",
       "      <td>-22.586966</td>\n",
       "      <td>29.459621</td>\n",
       "      <td>31.994144</td>\n",
       "      <td>31.994144</td>\n",
       "      <td>-0.011626</td>\n",
       "      <td>-0.011626</td>\n",
       "      <td>-0.011626</td>\n",
       "      <td>...</td>\n",
       "      <td>-0.829685</td>\n",
       "      <td>-0.829685</td>\n",
       "      <td>-0.829685</td>\n",
       "      <td>-0.722823</td>\n",
       "      <td>-0.722823</td>\n",
       "      <td>-0.722823</td>\n",
       "      <td>0.0</td>\n",
       "      <td>0.0</td>\n",
       "      <td>0.0</td>\n",
       "      <td>5.449089</td>\n",
       "    </tr>\n",
       "    <tr>\n",
       "      <th>1</th>\n",
       "      <td>1</td>\n",
       "      <td>2008-05-06</td>\n",
       "      <td>32.086423</td>\n",
       "      <td>-23.907896</td>\n",
       "      <td>30.289672</td>\n",
       "      <td>32.086423</td>\n",
       "      <td>32.086423</td>\n",
       "      <td>-0.012831</td>\n",
       "      <td>-0.012831</td>\n",
       "      <td>-0.012831</td>\n",
       "      <td>...</td>\n",
       "      <td>-0.847482</td>\n",
       "      <td>-0.847482</td>\n",
       "      <td>-0.847482</td>\n",
       "      <td>-0.735147</td>\n",
       "      <td>-0.735147</td>\n",
       "      <td>-0.735147</td>\n",
       "      <td>0.0</td>\n",
       "      <td>0.0</td>\n",
       "      <td>0.0</td>\n",
       "      <td>4.893749</td>\n",
       "    </tr>\n",
       "    <tr>\n",
       "      <th>2</th>\n",
       "      <td>2</td>\n",
       "      <td>2008-05-13</td>\n",
       "      <td>32.178702</td>\n",
       "      <td>-19.102416</td>\n",
       "      <td>36.648782</td>\n",
       "      <td>32.178702</td>\n",
       "      <td>32.178702</td>\n",
       "      <td>-0.008908</td>\n",
       "      <td>-0.008908</td>\n",
       "      <td>-0.008908</td>\n",
       "      <td>...</td>\n",
       "      <td>-0.725216</td>\n",
       "      <td>-0.725216</td>\n",
       "      <td>-0.725216</td>\n",
       "      <td>-0.731275</td>\n",
       "      <td>-0.731275</td>\n",
       "      <td>-0.731275</td>\n",
       "      <td>0.0</td>\n",
       "      <td>0.0</td>\n",
       "      <td>0.0</td>\n",
       "      <td>8.842177</td>\n",
       "    </tr>\n",
       "    <tr>\n",
       "      <th>3</th>\n",
       "      <td>3</td>\n",
       "      <td>2008-05-20</td>\n",
       "      <td>32.270981</td>\n",
       "      <td>-17.807947</td>\n",
       "      <td>38.107232</td>\n",
       "      <td>32.270981</td>\n",
       "      <td>32.270981</td>\n",
       "      <td>-0.008910</td>\n",
       "      <td>-0.008910</td>\n",
       "      <td>-0.008910</td>\n",
       "      <td>...</td>\n",
       "      <td>-0.714984</td>\n",
       "      <td>-0.714984</td>\n",
       "      <td>-0.714984</td>\n",
       "      <td>-0.751221</td>\n",
       "      <td>-0.751221</td>\n",
       "      <td>-0.751221</td>\n",
       "      <td>0.0</td>\n",
       "      <td>0.0</td>\n",
       "      <td>0.0</td>\n",
       "      <td>9.197737</td>\n",
       "    </tr>\n",
       "    <tr>\n",
       "      <th>4</th>\n",
       "      <td>4</td>\n",
       "      <td>2008-05-27</td>\n",
       "      <td>32.363260</td>\n",
       "      <td>-17.251871</td>\n",
       "      <td>35.237449</td>\n",
       "      <td>32.363260</td>\n",
       "      <td>32.363260</td>\n",
       "      <td>-0.008679</td>\n",
       "      <td>-0.008679</td>\n",
       "      <td>-0.008679</td>\n",
       "      <td>...</td>\n",
       "      <td>-0.753951</td>\n",
       "      <td>-0.753951</td>\n",
       "      <td>-0.753951</td>\n",
       "      <td>-0.793135</td>\n",
       "      <td>-0.793135</td>\n",
       "      <td>-0.793135</td>\n",
       "      <td>0.0</td>\n",
       "      <td>0.0</td>\n",
       "      <td>0.0</td>\n",
       "      <td>7.962942</td>\n",
       "    </tr>\n",
       "  </tbody>\n",
       "</table>\n",
       "<p>5 rows × 26 columns</p>\n",
       "</div>"
      ],
      "text/plain": [
       "   Unnamed: 0          ds      trend  yhat_lower  yhat_upper  trend_lower  \\\n",
       "0           0  2008-04-29  31.994144  -22.586966   29.459621    31.994144   \n",
       "1           1  2008-05-06  32.086423  -23.907896   30.289672    32.086423   \n",
       "2           2  2008-05-13  32.178702  -19.102416   36.648782    32.178702   \n",
       "3           3  2008-05-20  32.270981  -17.807947   38.107232    32.270981   \n",
       "4           4  2008-05-27  32.363260  -17.251871   35.237449    32.363260   \n",
       "\n",
       "   trend_upper  avg_ndvi  avg_ndvi_lower  avg_ndvi_upper  ...  \\\n",
       "0    31.994144 -0.011626       -0.011626       -0.011626  ...   \n",
       "1    32.086423 -0.012831       -0.012831       -0.012831  ...   \n",
       "2    32.178702 -0.008908       -0.008908       -0.008908  ...   \n",
       "3    32.270981 -0.008910       -0.008910       -0.008910  ...   \n",
       "4    32.363260 -0.008679       -0.008679       -0.008679  ...   \n",
       "\n",
       "   multiplicative_terms  multiplicative_terms_lower  \\\n",
       "0             -0.829685                   -0.829685   \n",
       "1             -0.847482                   -0.847482   \n",
       "2             -0.725216                   -0.725216   \n",
       "3             -0.714984                   -0.714984   \n",
       "4             -0.753951                   -0.753951   \n",
       "\n",
       "   multiplicative_terms_upper    yearly  yearly_lower  yearly_upper  \\\n",
       "0                   -0.829685 -0.722823     -0.722823     -0.722823   \n",
       "1                   -0.847482 -0.735147     -0.735147     -0.735147   \n",
       "2                   -0.725216 -0.731275     -0.731275     -0.731275   \n",
       "3                   -0.714984 -0.751221     -0.751221     -0.751221   \n",
       "4                   -0.753951 -0.793135     -0.793135     -0.793135   \n",
       "\n",
       "   additive_terms  additive_terms_lower  additive_terms_upper      yhat  \n",
       "0             0.0                   0.0                   0.0  5.449089  \n",
       "1             0.0                   0.0                   0.0  4.893749  \n",
       "2             0.0                   0.0                   0.0  8.842177  \n",
       "3             0.0                   0.0                   0.0  9.197737  \n",
       "4             0.0                   0.0                   0.0  7.962942  \n",
       "\n",
       "[5 rows x 26 columns]"
      ]
     },
     "execution_count": 35,
     "metadata": {},
     "output_type": "execute_result"
    }
   ],
   "source": [
    "fore_sj.head()"
   ]
  },
  {
   "cell_type": "code",
   "execution_count": 36,
   "id": "2e157e65",
   "metadata": {},
   "outputs": [],
   "source": [
    "submi = pd.read_csv('submission_format.csv')"
   ]
  },
  {
   "cell_type": "code",
   "execution_count": 37,
   "id": "3323ddfa",
   "metadata": {},
   "outputs": [],
   "source": [
    "submi_sj = submi[submi['city'] == 'sj']\n",
    "submi_iq = submi[submi['city'] == 'iq']\n"
   ]
  },
  {
   "cell_type": "code",
   "execution_count": 38,
   "id": "8ce0ed18",
   "metadata": {},
   "outputs": [],
   "source": [
    "submission_sj = pd.concat([submi_sj, pd.DataFrame(fore_sj['yhat'])], axis=1)"
   ]
  },
  {
   "cell_type": "code",
   "execution_count": 39,
   "id": "2cf59db2",
   "metadata": {},
   "outputs": [
    {
     "data": {
      "text/html": [
       "<div>\n",
       "<style scoped>\n",
       "    .dataframe tbody tr th:only-of-type {\n",
       "        vertical-align: middle;\n",
       "    }\n",
       "\n",
       "    .dataframe tbody tr th {\n",
       "        vertical-align: top;\n",
       "    }\n",
       "\n",
       "    .dataframe thead th {\n",
       "        text-align: right;\n",
       "    }\n",
       "</style>\n",
       "<table border=\"1\" class=\"dataframe\">\n",
       "  <thead>\n",
       "    <tr style=\"text-align: right;\">\n",
       "      <th></th>\n",
       "      <th>city</th>\n",
       "      <th>year</th>\n",
       "      <th>weekofyear</th>\n",
       "      <th>total_cases</th>\n",
       "      <th>yhat</th>\n",
       "    </tr>\n",
       "  </thead>\n",
       "  <tbody>\n",
       "    <tr>\n",
       "      <th>0</th>\n",
       "      <td>sj</td>\n",
       "      <td>2008</td>\n",
       "      <td>18</td>\n",
       "      <td>0</td>\n",
       "      <td>5.449089</td>\n",
       "    </tr>\n",
       "    <tr>\n",
       "      <th>1</th>\n",
       "      <td>sj</td>\n",
       "      <td>2008</td>\n",
       "      <td>19</td>\n",
       "      <td>0</td>\n",
       "      <td>4.893749</td>\n",
       "    </tr>\n",
       "    <tr>\n",
       "      <th>2</th>\n",
       "      <td>sj</td>\n",
       "      <td>2008</td>\n",
       "      <td>20</td>\n",
       "      <td>0</td>\n",
       "      <td>8.842177</td>\n",
       "    </tr>\n",
       "    <tr>\n",
       "      <th>3</th>\n",
       "      <td>sj</td>\n",
       "      <td>2008</td>\n",
       "      <td>21</td>\n",
       "      <td>0</td>\n",
       "      <td>9.197737</td>\n",
       "    </tr>\n",
       "    <tr>\n",
       "      <th>4</th>\n",
       "      <td>sj</td>\n",
       "      <td>2008</td>\n",
       "      <td>22</td>\n",
       "      <td>0</td>\n",
       "      <td>7.962942</td>\n",
       "    </tr>\n",
       "  </tbody>\n",
       "</table>\n",
       "</div>"
      ],
      "text/plain": [
       "  city  year  weekofyear  total_cases      yhat\n",
       "0   sj  2008          18            0  5.449089\n",
       "1   sj  2008          19            0  4.893749\n",
       "2   sj  2008          20            0  8.842177\n",
       "3   sj  2008          21            0  9.197737\n",
       "4   sj  2008          22            0  7.962942"
      ]
     },
     "execution_count": 39,
     "metadata": {},
     "output_type": "execute_result"
    }
   ],
   "source": [
    "submission_sj.head()"
   ]
  },
  {
   "cell_type": "code",
   "execution_count": 40,
   "id": "c7d941bb",
   "metadata": {},
   "outputs": [],
   "source": [
    "submission_sj = submission_sj.drop(['total_cases'],axis = 1)"
   ]
  },
  {
   "cell_type": "code",
   "execution_count": 41,
   "id": "286ceadc",
   "metadata": {},
   "outputs": [],
   "source": [
    "submission_sj.rename(columns = {'yhat':'total_cases'}, inplace = True)"
   ]
  },
  {
   "cell_type": "code",
   "execution_count": null,
   "id": "5afa7b21",
   "metadata": {},
   "outputs": [],
   "source": []
  },
  {
   "cell_type": "code",
   "execution_count": 42,
   "id": "813852ce",
   "metadata": {},
   "outputs": [],
   "source": [
    "submi_iq.reset_index(inplace=True)"
   ]
  },
  {
   "cell_type": "code",
   "execution_count": 43,
   "id": "ae2d548b",
   "metadata": {},
   "outputs": [],
   "source": [
    "submission_iq = pd.concat([submi_iq, pd.DataFrame(fore_iq['yhat'])], axis=1)"
   ]
  },
  {
   "cell_type": "code",
   "execution_count": 44,
   "id": "f92cbc19",
   "metadata": {},
   "outputs": [
    {
     "data": {
      "text/plain": [
       "(156, 6)"
      ]
     },
     "execution_count": 44,
     "metadata": {},
     "output_type": "execute_result"
    }
   ],
   "source": [
    "submission_iq.shape"
   ]
  },
  {
   "cell_type": "code",
   "execution_count": 45,
   "id": "e61514d2",
   "metadata": {},
   "outputs": [],
   "source": [
    "submission_iq = submission_iq.drop(['index','total_cases'],axis = 1)"
   ]
  },
  {
   "cell_type": "code",
   "execution_count": 46,
   "id": "061e019a",
   "metadata": {},
   "outputs": [
    {
     "data": {
      "text/html": [
       "<div>\n",
       "<style scoped>\n",
       "    .dataframe tbody tr th:only-of-type {\n",
       "        vertical-align: middle;\n",
       "    }\n",
       "\n",
       "    .dataframe tbody tr th {\n",
       "        vertical-align: top;\n",
       "    }\n",
       "\n",
       "    .dataframe thead th {\n",
       "        text-align: right;\n",
       "    }\n",
       "</style>\n",
       "<table border=\"1\" class=\"dataframe\">\n",
       "  <thead>\n",
       "    <tr style=\"text-align: right;\">\n",
       "      <th></th>\n",
       "      <th>city</th>\n",
       "      <th>year</th>\n",
       "      <th>weekofyear</th>\n",
       "      <th>yhat</th>\n",
       "    </tr>\n",
       "  </thead>\n",
       "  <tbody>\n",
       "    <tr>\n",
       "      <th>0</th>\n",
       "      <td>iq</td>\n",
       "      <td>2010</td>\n",
       "      <td>26</td>\n",
       "      <td>3.695209</td>\n",
       "    </tr>\n",
       "    <tr>\n",
       "      <th>1</th>\n",
       "      <td>iq</td>\n",
       "      <td>2010</td>\n",
       "      <td>27</td>\n",
       "      <td>4.365394</td>\n",
       "    </tr>\n",
       "    <tr>\n",
       "      <th>2</th>\n",
       "      <td>iq</td>\n",
       "      <td>2010</td>\n",
       "      <td>28</td>\n",
       "      <td>4.648977</td>\n",
       "    </tr>\n",
       "    <tr>\n",
       "      <th>3</th>\n",
       "      <td>iq</td>\n",
       "      <td>2010</td>\n",
       "      <td>29</td>\n",
       "      <td>5.216939</td>\n",
       "    </tr>\n",
       "    <tr>\n",
       "      <th>4</th>\n",
       "      <td>iq</td>\n",
       "      <td>2010</td>\n",
       "      <td>30</td>\n",
       "      <td>4.209278</td>\n",
       "    </tr>\n",
       "  </tbody>\n",
       "</table>\n",
       "</div>"
      ],
      "text/plain": [
       "  city  year  weekofyear      yhat\n",
       "0   iq  2010          26  3.695209\n",
       "1   iq  2010          27  4.365394\n",
       "2   iq  2010          28  4.648977\n",
       "3   iq  2010          29  5.216939\n",
       "4   iq  2010          30  4.209278"
      ]
     },
     "execution_count": 46,
     "metadata": {},
     "output_type": "execute_result"
    }
   ],
   "source": [
    "submission_iq.head()"
   ]
  },
  {
   "cell_type": "code",
   "execution_count": 47,
   "id": "b4f6d131",
   "metadata": {},
   "outputs": [],
   "source": [
    "submission_iq.rename(columns = {'yhat':'total_cases'}, inplace = True)"
   ]
  },
  {
   "cell_type": "code",
   "execution_count": 48,
   "id": "92085f02",
   "metadata": {},
   "outputs": [
    {
     "name": "stderr",
     "output_type": "stream",
     "text": [
      "/var/folders/dl/zfkvqms549vchyzbsj30cgbw0000gn/T/ipykernel_18588/2663588300.py:1: FutureWarning: The frame.append method is deprecated and will be removed from pandas in a future version. Use pandas.concat instead.\n",
      "  main_submission = submission_sj.append(submission_iq)\n"
     ]
    }
   ],
   "source": [
    "main_submission = submission_sj.append(submission_iq)"
   ]
  },
  {
   "cell_type": "code",
   "execution_count": 49,
   "id": "e96422b8",
   "metadata": {},
   "outputs": [
    {
     "data": {
      "text/plain": [
       "(416, 4)"
      ]
     },
     "execution_count": 49,
     "metadata": {},
     "output_type": "execute_result"
    }
   ],
   "source": [
    "main_submission.shape"
   ]
  },
  {
   "cell_type": "code",
   "execution_count": 50,
   "id": "8cddfa23",
   "metadata": {},
   "outputs": [],
   "source": [
    "main_submission.set_index('city',inplace=True)"
   ]
  },
  {
   "cell_type": "code",
   "execution_count": 51,
   "id": "b09979bc",
   "metadata": {},
   "outputs": [],
   "source": [
    "main_submission_round = main_submission.copy()"
   ]
  },
  {
   "cell_type": "code",
   "execution_count": 52,
   "id": "65bb2479",
   "metadata": {},
   "outputs": [],
   "source": [
    "main_submission_round['total_cases'] = main_submission_round['total_cases'].round(0)"
   ]
  },
  {
   "cell_type": "code",
   "execution_count": 53,
   "id": "6867fe44",
   "metadata": {},
   "outputs": [
    {
     "data": {
      "text/html": [
       "<div>\n",
       "<style scoped>\n",
       "    .dataframe tbody tr th:only-of-type {\n",
       "        vertical-align: middle;\n",
       "    }\n",
       "\n",
       "    .dataframe tbody tr th {\n",
       "        vertical-align: top;\n",
       "    }\n",
       "\n",
       "    .dataframe thead th {\n",
       "        text-align: right;\n",
       "    }\n",
       "</style>\n",
       "<table border=\"1\" class=\"dataframe\">\n",
       "  <thead>\n",
       "    <tr style=\"text-align: right;\">\n",
       "      <th></th>\n",
       "      <th>year</th>\n",
       "      <th>weekofyear</th>\n",
       "      <th>total_cases</th>\n",
       "    </tr>\n",
       "    <tr>\n",
       "      <th>city</th>\n",
       "      <th></th>\n",
       "      <th></th>\n",
       "      <th></th>\n",
       "    </tr>\n",
       "  </thead>\n",
       "  <tbody>\n",
       "    <tr>\n",
       "      <th>sj</th>\n",
       "      <td>2008</td>\n",
       "      <td>18</td>\n",
       "      <td>5.0</td>\n",
       "    </tr>\n",
       "    <tr>\n",
       "      <th>sj</th>\n",
       "      <td>2008</td>\n",
       "      <td>19</td>\n",
       "      <td>5.0</td>\n",
       "    </tr>\n",
       "    <tr>\n",
       "      <th>sj</th>\n",
       "      <td>2008</td>\n",
       "      <td>20</td>\n",
       "      <td>9.0</td>\n",
       "    </tr>\n",
       "    <tr>\n",
       "      <th>sj</th>\n",
       "      <td>2008</td>\n",
       "      <td>21</td>\n",
       "      <td>9.0</td>\n",
       "    </tr>\n",
       "    <tr>\n",
       "      <th>sj</th>\n",
       "      <td>2008</td>\n",
       "      <td>22</td>\n",
       "      <td>8.0</td>\n",
       "    </tr>\n",
       "  </tbody>\n",
       "</table>\n",
       "</div>"
      ],
      "text/plain": [
       "      year  weekofyear  total_cases\n",
       "city                               \n",
       "sj    2008          18          5.0\n",
       "sj    2008          19          5.0\n",
       "sj    2008          20          9.0\n",
       "sj    2008          21          9.0\n",
       "sj    2008          22          8.0"
      ]
     },
     "execution_count": 53,
     "metadata": {},
     "output_type": "execute_result"
    }
   ],
   "source": [
    "main_submission_round.head()"
   ]
  },
  {
   "cell_type": "code",
   "execution_count": 54,
   "id": "6e54c067",
   "metadata": {},
   "outputs": [],
   "source": [
    "main_submission_round['total_cases'] = main_submission_round['total_cases'].astype('int64')"
   ]
  },
  {
   "cell_type": "code",
   "execution_count": 55,
   "id": "0394f890",
   "metadata": {},
   "outputs": [
    {
     "data": {
      "text/html": [
       "<div>\n",
       "<style scoped>\n",
       "    .dataframe tbody tr th:only-of-type {\n",
       "        vertical-align: middle;\n",
       "    }\n",
       "\n",
       "    .dataframe tbody tr th {\n",
       "        vertical-align: top;\n",
       "    }\n",
       "\n",
       "    .dataframe thead th {\n",
       "        text-align: right;\n",
       "    }\n",
       "</style>\n",
       "<table border=\"1\" class=\"dataframe\">\n",
       "  <thead>\n",
       "    <tr style=\"text-align: right;\">\n",
       "      <th></th>\n",
       "      <th>year</th>\n",
       "      <th>weekofyear</th>\n",
       "      <th>total_cases</th>\n",
       "    </tr>\n",
       "    <tr>\n",
       "      <th>city</th>\n",
       "      <th></th>\n",
       "      <th></th>\n",
       "      <th></th>\n",
       "    </tr>\n",
       "  </thead>\n",
       "  <tbody>\n",
       "  </tbody>\n",
       "</table>\n",
       "</div>"
      ],
      "text/plain": [
       "Empty DataFrame\n",
       "Columns: [year, weekofyear, total_cases]\n",
       "Index: []"
      ]
     },
     "execution_count": 55,
     "metadata": {},
     "output_type": "execute_result"
    }
   ],
   "source": [
    "main_submission_round[main_submission_round['total_cases'] < 0]"
   ]
  },
  {
   "cell_type": "code",
   "execution_count": 56,
   "id": "5cf191b7",
   "metadata": {},
   "outputs": [],
   "source": [
    "main_submission_round.to_csv('submission_prophet_new.csv')"
   ]
  },
  {
   "cell_type": "code",
   "execution_count": null,
   "id": "d6daf3c5",
   "metadata": {},
   "outputs": [],
   "source": []
  }
 ],
 "metadata": {
  "kernelspec": {
   "display_name": "Python 3 (ipykernel)",
   "language": "python",
   "name": "python3"
  },
  "language_info": {
   "codemirror_mode": {
    "name": "ipython",
    "version": 3
   },
   "file_extension": ".py",
   "mimetype": "text/x-python",
   "name": "python",
   "nbconvert_exporter": "python",
   "pygments_lexer": "ipython3",
   "version": "3.8.13"
  }
 },
 "nbformat": 4,
 "nbformat_minor": 5
}
