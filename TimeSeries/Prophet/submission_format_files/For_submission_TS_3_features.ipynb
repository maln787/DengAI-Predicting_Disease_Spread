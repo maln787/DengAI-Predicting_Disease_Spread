{
 "cells": [
  {
   "cell_type": "code",
   "execution_count": 1,
   "id": "156eaea0",
   "metadata": {},
   "outputs": [],
   "source": [
    "import pandas as pd"
   ]
  },
  {
   "cell_type": "code",
   "execution_count": 2,
   "id": "6ba67f48",
   "metadata": {},
   "outputs": [],
   "source": [
    "import numpy as np"
   ]
  },
  {
   "cell_type": "code",
   "execution_count": null,
   "id": "64dc87f2",
   "metadata": {},
   "outputs": [],
   "source": []
  },
  {
   "cell_type": "code",
   "execution_count": 32,
   "id": "81770663",
   "metadata": {},
   "outputs": [],
   "source": [
    "fore_sj = pd.read_csv('forecast_sj_three_feat_1.csv')"
   ]
  },
  {
   "cell_type": "code",
   "execution_count": 33,
   "id": "0e9601c3",
   "metadata": {},
   "outputs": [],
   "source": [
    "fore_iq = pd.read_csv('forecast_iq_three_feat_1.csv')"
   ]
  },
  {
   "cell_type": "code",
   "execution_count": 34,
   "id": "aad73ff9",
   "metadata": {},
   "outputs": [
    {
     "data": {
      "text/plain": [
       "(260, 29)"
      ]
     },
     "execution_count": 34,
     "metadata": {},
     "output_type": "execute_result"
    }
   ],
   "source": [
    "fore_sj.shape"
   ]
  },
  {
   "cell_type": "code",
   "execution_count": 35,
   "id": "2892a226",
   "metadata": {},
   "outputs": [
    {
     "data": {
      "text/html": [
       "<div>\n",
       "<style scoped>\n",
       "    .dataframe tbody tr th:only-of-type {\n",
       "        vertical-align: middle;\n",
       "    }\n",
       "\n",
       "    .dataframe tbody tr th {\n",
       "        vertical-align: top;\n",
       "    }\n",
       "\n",
       "    .dataframe thead th {\n",
       "        text-align: right;\n",
       "    }\n",
       "</style>\n",
       "<table border=\"1\" class=\"dataframe\">\n",
       "  <thead>\n",
       "    <tr style=\"text-align: right;\">\n",
       "      <th></th>\n",
       "      <th>Unnamed: 0</th>\n",
       "      <th>ds</th>\n",
       "      <th>trend</th>\n",
       "      <th>yhat_lower</th>\n",
       "      <th>yhat_upper</th>\n",
       "      <th>trend_lower</th>\n",
       "      <th>trend_upper</th>\n",
       "      <th>avg_ndvi</th>\n",
       "      <th>avg_ndvi_lower</th>\n",
       "      <th>avg_ndvi_upper</th>\n",
       "      <th>...</th>\n",
       "      <th>reanalysis_relative_humidity_percent</th>\n",
       "      <th>reanalysis_relative_humidity_percent_lower</th>\n",
       "      <th>reanalysis_relative_humidity_percent_upper</th>\n",
       "      <th>yearly</th>\n",
       "      <th>yearly_lower</th>\n",
       "      <th>yearly_upper</th>\n",
       "      <th>additive_terms</th>\n",
       "      <th>additive_terms_lower</th>\n",
       "      <th>additive_terms_upper</th>\n",
       "      <th>yhat</th>\n",
       "    </tr>\n",
       "  </thead>\n",
       "  <tbody>\n",
       "    <tr>\n",
       "      <th>0</th>\n",
       "      <td>0</td>\n",
       "      <td>2008-04-29</td>\n",
       "      <td>33.312192</td>\n",
       "      <td>-19.906697</td>\n",
       "      <td>31.618175</td>\n",
       "      <td>33.312192</td>\n",
       "      <td>33.312192</td>\n",
       "      <td>-0.025798</td>\n",
       "      <td>-0.025798</td>\n",
       "      <td>-0.025798</td>\n",
       "      <td>...</td>\n",
       "      <td>0.004070</td>\n",
       "      <td>0.004070</td>\n",
       "      <td>0.004070</td>\n",
       "      <td>-0.705459</td>\n",
       "      <td>-0.705459</td>\n",
       "      <td>-0.705459</td>\n",
       "      <td>0.0</td>\n",
       "      <td>0.0</td>\n",
       "      <td>0.0</td>\n",
       "      <td>6.102823</td>\n",
       "    </tr>\n",
       "    <tr>\n",
       "      <th>1</th>\n",
       "      <td>1</td>\n",
       "      <td>2008-05-06</td>\n",
       "      <td>33.412208</td>\n",
       "      <td>-21.571100</td>\n",
       "      <td>32.883723</td>\n",
       "      <td>33.412208</td>\n",
       "      <td>33.412208</td>\n",
       "      <td>-0.028472</td>\n",
       "      <td>-0.028472</td>\n",
       "      <td>-0.028472</td>\n",
       "      <td>...</td>\n",
       "      <td>-0.006561</td>\n",
       "      <td>-0.006561</td>\n",
       "      <td>-0.006561</td>\n",
       "      <td>-0.716601</td>\n",
       "      <td>-0.716601</td>\n",
       "      <td>-0.716601</td>\n",
       "      <td>0.0</td>\n",
       "      <td>0.0</td>\n",
       "      <td>0.0</td>\n",
       "      <td>5.170162</td>\n",
       "    </tr>\n",
       "    <tr>\n",
       "      <th>2</th>\n",
       "      <td>2</td>\n",
       "      <td>2008-05-13</td>\n",
       "      <td>33.512223</td>\n",
       "      <td>-19.317271</td>\n",
       "      <td>32.941178</td>\n",
       "      <td>33.512223</td>\n",
       "      <td>33.512223</td>\n",
       "      <td>-0.019766</td>\n",
       "      <td>-0.019766</td>\n",
       "      <td>-0.019766</td>\n",
       "      <td>...</td>\n",
       "      <td>-0.005790</td>\n",
       "      <td>-0.005790</td>\n",
       "      <td>-0.005790</td>\n",
       "      <td>-0.741566</td>\n",
       "      <td>-0.741566</td>\n",
       "      <td>-0.741566</td>\n",
       "      <td>0.0</td>\n",
       "      <td>0.0</td>\n",
       "      <td>0.0</td>\n",
       "      <td>8.276209</td>\n",
       "    </tr>\n",
       "    <tr>\n",
       "      <th>3</th>\n",
       "      <td>3</td>\n",
       "      <td>2008-05-20</td>\n",
       "      <td>33.612238</td>\n",
       "      <td>-23.619476</td>\n",
       "      <td>30.113521</td>\n",
       "      <td>33.612238</td>\n",
       "      <td>33.612238</td>\n",
       "      <td>-0.019771</td>\n",
       "      <td>-0.019771</td>\n",
       "      <td>-0.019771</td>\n",
       "      <td>...</td>\n",
       "      <td>-0.107080</td>\n",
       "      <td>-0.107080</td>\n",
       "      <td>-0.107080</td>\n",
       "      <td>-0.801814</td>\n",
       "      <td>-0.801814</td>\n",
       "      <td>-0.801814</td>\n",
       "      <td>0.0</td>\n",
       "      <td>0.0</td>\n",
       "      <td>0.0</td>\n",
       "      <td>3.825585</td>\n",
       "    </tr>\n",
       "    <tr>\n",
       "      <th>4</th>\n",
       "      <td>4</td>\n",
       "      <td>2008-05-27</td>\n",
       "      <td>33.712254</td>\n",
       "      <td>-24.757820</td>\n",
       "      <td>30.071061</td>\n",
       "      <td>33.712254</td>\n",
       "      <td>33.712254</td>\n",
       "      <td>-0.019259</td>\n",
       "      <td>-0.019259</td>\n",
       "      <td>-0.019259</td>\n",
       "      <td>...</td>\n",
       "      <td>-0.086481</td>\n",
       "      <td>-0.086481</td>\n",
       "      <td>-0.086481</td>\n",
       "      <td>-0.861482</td>\n",
       "      <td>-0.861482</td>\n",
       "      <td>-0.861482</td>\n",
       "      <td>0.0</td>\n",
       "      <td>0.0</td>\n",
       "      <td>0.0</td>\n",
       "      <td>2.623305</td>\n",
       "    </tr>\n",
       "  </tbody>\n",
       "</table>\n",
       "<p>5 rows × 29 columns</p>\n",
       "</div>"
      ],
      "text/plain": [
       "   Unnamed: 0          ds      trend  yhat_lower  yhat_upper  trend_lower  \\\n",
       "0           0  2008-04-29  33.312192  -19.906697   31.618175    33.312192   \n",
       "1           1  2008-05-06  33.412208  -21.571100   32.883723    33.412208   \n",
       "2           2  2008-05-13  33.512223  -19.317271   32.941178    33.512223   \n",
       "3           3  2008-05-20  33.612238  -23.619476   30.113521    33.612238   \n",
       "4           4  2008-05-27  33.712254  -24.757820   30.071061    33.712254   \n",
       "\n",
       "   trend_upper  avg_ndvi  avg_ndvi_lower  avg_ndvi_upper  ...  \\\n",
       "0    33.312192 -0.025798       -0.025798       -0.025798  ...   \n",
       "1    33.412208 -0.028472       -0.028472       -0.028472  ...   \n",
       "2    33.512223 -0.019766       -0.019766       -0.019766  ...   \n",
       "3    33.612238 -0.019771       -0.019771       -0.019771  ...   \n",
       "4    33.712254 -0.019259       -0.019259       -0.019259  ...   \n",
       "\n",
       "   reanalysis_relative_humidity_percent  \\\n",
       "0                              0.004070   \n",
       "1                             -0.006561   \n",
       "2                             -0.005790   \n",
       "3                             -0.107080   \n",
       "4                             -0.086481   \n",
       "\n",
       "   reanalysis_relative_humidity_percent_lower  \\\n",
       "0                                    0.004070   \n",
       "1                                   -0.006561   \n",
       "2                                   -0.005790   \n",
       "3                                   -0.107080   \n",
       "4                                   -0.086481   \n",
       "\n",
       "   reanalysis_relative_humidity_percent_upper    yearly  yearly_lower  \\\n",
       "0                                    0.004070 -0.705459     -0.705459   \n",
       "1                                   -0.006561 -0.716601     -0.716601   \n",
       "2                                   -0.005790 -0.741566     -0.741566   \n",
       "3                                   -0.107080 -0.801814     -0.801814   \n",
       "4                                   -0.086481 -0.861482     -0.861482   \n",
       "\n",
       "   yearly_upper  additive_terms  additive_terms_lower  additive_terms_upper  \\\n",
       "0     -0.705459             0.0                   0.0                   0.0   \n",
       "1     -0.716601             0.0                   0.0                   0.0   \n",
       "2     -0.741566             0.0                   0.0                   0.0   \n",
       "3     -0.801814             0.0                   0.0                   0.0   \n",
       "4     -0.861482             0.0                   0.0                   0.0   \n",
       "\n",
       "       yhat  \n",
       "0  6.102823  \n",
       "1  5.170162  \n",
       "2  8.276209  \n",
       "3  3.825585  \n",
       "4  2.623305  \n",
       "\n",
       "[5 rows x 29 columns]"
      ]
     },
     "execution_count": 35,
     "metadata": {},
     "output_type": "execute_result"
    }
   ],
   "source": [
    "fore_sj.head()"
   ]
  },
  {
   "cell_type": "code",
   "execution_count": 36,
   "id": "2e157e65",
   "metadata": {},
   "outputs": [],
   "source": [
    "submi = pd.read_csv('submission_format.csv')"
   ]
  },
  {
   "cell_type": "code",
   "execution_count": 37,
   "id": "3323ddfa",
   "metadata": {},
   "outputs": [],
   "source": [
    "submi_sj = submi[submi['city'] == 'sj']\n",
    "submi_iq = submi[submi['city'] == 'iq']\n"
   ]
  },
  {
   "cell_type": "code",
   "execution_count": 38,
   "id": "8ce0ed18",
   "metadata": {},
   "outputs": [],
   "source": [
    "submission_sj = pd.concat([submi_sj, pd.DataFrame(fore_sj['yhat'])], axis=1)"
   ]
  },
  {
   "cell_type": "code",
   "execution_count": 39,
   "id": "2cf59db2",
   "metadata": {},
   "outputs": [
    {
     "data": {
      "text/html": [
       "<div>\n",
       "<style scoped>\n",
       "    .dataframe tbody tr th:only-of-type {\n",
       "        vertical-align: middle;\n",
       "    }\n",
       "\n",
       "    .dataframe tbody tr th {\n",
       "        vertical-align: top;\n",
       "    }\n",
       "\n",
       "    .dataframe thead th {\n",
       "        text-align: right;\n",
       "    }\n",
       "</style>\n",
       "<table border=\"1\" class=\"dataframe\">\n",
       "  <thead>\n",
       "    <tr style=\"text-align: right;\">\n",
       "      <th></th>\n",
       "      <th>city</th>\n",
       "      <th>year</th>\n",
       "      <th>weekofyear</th>\n",
       "      <th>total_cases</th>\n",
       "      <th>yhat</th>\n",
       "    </tr>\n",
       "  </thead>\n",
       "  <tbody>\n",
       "    <tr>\n",
       "      <th>0</th>\n",
       "      <td>sj</td>\n",
       "      <td>2008</td>\n",
       "      <td>18</td>\n",
       "      <td>0</td>\n",
       "      <td>6.102823</td>\n",
       "    </tr>\n",
       "    <tr>\n",
       "      <th>1</th>\n",
       "      <td>sj</td>\n",
       "      <td>2008</td>\n",
       "      <td>19</td>\n",
       "      <td>0</td>\n",
       "      <td>5.170162</td>\n",
       "    </tr>\n",
       "    <tr>\n",
       "      <th>2</th>\n",
       "      <td>sj</td>\n",
       "      <td>2008</td>\n",
       "      <td>20</td>\n",
       "      <td>0</td>\n",
       "      <td>8.276209</td>\n",
       "    </tr>\n",
       "    <tr>\n",
       "      <th>3</th>\n",
       "      <td>sj</td>\n",
       "      <td>2008</td>\n",
       "      <td>21</td>\n",
       "      <td>0</td>\n",
       "      <td>3.825585</td>\n",
       "    </tr>\n",
       "    <tr>\n",
       "      <th>4</th>\n",
       "      <td>sj</td>\n",
       "      <td>2008</td>\n",
       "      <td>22</td>\n",
       "      <td>0</td>\n",
       "      <td>2.623305</td>\n",
       "    </tr>\n",
       "  </tbody>\n",
       "</table>\n",
       "</div>"
      ],
      "text/plain": [
       "  city  year  weekofyear  total_cases      yhat\n",
       "0   sj  2008          18            0  6.102823\n",
       "1   sj  2008          19            0  5.170162\n",
       "2   sj  2008          20            0  8.276209\n",
       "3   sj  2008          21            0  3.825585\n",
       "4   sj  2008          22            0  2.623305"
      ]
     },
     "execution_count": 39,
     "metadata": {},
     "output_type": "execute_result"
    }
   ],
   "source": [
    "submission_sj.head()"
   ]
  },
  {
   "cell_type": "code",
   "execution_count": 40,
   "id": "c7d941bb",
   "metadata": {},
   "outputs": [],
   "source": [
    "submission_sj = submission_sj.drop(['total_cases'],axis = 1)"
   ]
  },
  {
   "cell_type": "code",
   "execution_count": 41,
   "id": "286ceadc",
   "metadata": {},
   "outputs": [],
   "source": [
    "submission_sj.rename(columns = {'yhat':'total_cases'}, inplace = True)"
   ]
  },
  {
   "cell_type": "code",
   "execution_count": null,
   "id": "5afa7b21",
   "metadata": {},
   "outputs": [],
   "source": []
  },
  {
   "cell_type": "code",
   "execution_count": 42,
   "id": "813852ce",
   "metadata": {},
   "outputs": [],
   "source": [
    "submi_iq.reset_index(inplace=True)"
   ]
  },
  {
   "cell_type": "code",
   "execution_count": 43,
   "id": "ae2d548b",
   "metadata": {},
   "outputs": [],
   "source": [
    "submission_iq = pd.concat([submi_iq, pd.DataFrame(fore_iq['yhat'])], axis=1)"
   ]
  },
  {
   "cell_type": "code",
   "execution_count": 44,
   "id": "f92cbc19",
   "metadata": {},
   "outputs": [
    {
     "data": {
      "text/plain": [
       "(156, 6)"
      ]
     },
     "execution_count": 44,
     "metadata": {},
     "output_type": "execute_result"
    }
   ],
   "source": [
    "submission_iq.shape"
   ]
  },
  {
   "cell_type": "code",
   "execution_count": 45,
   "id": "e61514d2",
   "metadata": {},
   "outputs": [],
   "source": [
    "submission_iq = submission_iq.drop(['index','total_cases'],axis = 1)"
   ]
  },
  {
   "cell_type": "code",
   "execution_count": 46,
   "id": "061e019a",
   "metadata": {},
   "outputs": [
    {
     "data": {
      "text/html": [
       "<div>\n",
       "<style scoped>\n",
       "    .dataframe tbody tr th:only-of-type {\n",
       "        vertical-align: middle;\n",
       "    }\n",
       "\n",
       "    .dataframe tbody tr th {\n",
       "        vertical-align: top;\n",
       "    }\n",
       "\n",
       "    .dataframe thead th {\n",
       "        text-align: right;\n",
       "    }\n",
       "</style>\n",
       "<table border=\"1\" class=\"dataframe\">\n",
       "  <thead>\n",
       "    <tr style=\"text-align: right;\">\n",
       "      <th></th>\n",
       "      <th>city</th>\n",
       "      <th>year</th>\n",
       "      <th>weekofyear</th>\n",
       "      <th>yhat</th>\n",
       "    </tr>\n",
       "  </thead>\n",
       "  <tbody>\n",
       "    <tr>\n",
       "      <th>0</th>\n",
       "      <td>iq</td>\n",
       "      <td>2010</td>\n",
       "      <td>26</td>\n",
       "      <td>3.838950</td>\n",
       "    </tr>\n",
       "    <tr>\n",
       "      <th>1</th>\n",
       "      <td>iq</td>\n",
       "      <td>2010</td>\n",
       "      <td>27</td>\n",
       "      <td>3.445873</td>\n",
       "    </tr>\n",
       "    <tr>\n",
       "      <th>2</th>\n",
       "      <td>iq</td>\n",
       "      <td>2010</td>\n",
       "      <td>28</td>\n",
       "      <td>5.167285</td>\n",
       "    </tr>\n",
       "    <tr>\n",
       "      <th>3</th>\n",
       "      <td>iq</td>\n",
       "      <td>2010</td>\n",
       "      <td>29</td>\n",
       "      <td>4.290463</td>\n",
       "    </tr>\n",
       "    <tr>\n",
       "      <th>4</th>\n",
       "      <td>iq</td>\n",
       "      <td>2010</td>\n",
       "      <td>30</td>\n",
       "      <td>2.899982</td>\n",
       "    </tr>\n",
       "  </tbody>\n",
       "</table>\n",
       "</div>"
      ],
      "text/plain": [
       "  city  year  weekofyear      yhat\n",
       "0   iq  2010          26  3.838950\n",
       "1   iq  2010          27  3.445873\n",
       "2   iq  2010          28  5.167285\n",
       "3   iq  2010          29  4.290463\n",
       "4   iq  2010          30  2.899982"
      ]
     },
     "execution_count": 46,
     "metadata": {},
     "output_type": "execute_result"
    }
   ],
   "source": [
    "submission_iq.head()"
   ]
  },
  {
   "cell_type": "code",
   "execution_count": 47,
   "id": "b4f6d131",
   "metadata": {},
   "outputs": [],
   "source": [
    "submission_iq.rename(columns = {'yhat':'total_cases'}, inplace = True)"
   ]
  },
  {
   "cell_type": "code",
   "execution_count": 48,
   "id": "92085f02",
   "metadata": {},
   "outputs": [
    {
     "name": "stderr",
     "output_type": "stream",
     "text": [
      "/var/folders/dl/zfkvqms549vchyzbsj30cgbw0000gn/T/ipykernel_47960/2663588300.py:1: FutureWarning: The frame.append method is deprecated and will be removed from pandas in a future version. Use pandas.concat instead.\n",
      "  main_submission = submission_sj.append(submission_iq)\n"
     ]
    }
   ],
   "source": [
    "main_submission = submission_sj.append(submission_iq)"
   ]
  },
  {
   "cell_type": "code",
   "execution_count": 49,
   "id": "e96422b8",
   "metadata": {},
   "outputs": [
    {
     "data": {
      "text/plain": [
       "(416, 4)"
      ]
     },
     "execution_count": 49,
     "metadata": {},
     "output_type": "execute_result"
    }
   ],
   "source": [
    "main_submission.shape"
   ]
  },
  {
   "cell_type": "code",
   "execution_count": 50,
   "id": "8cddfa23",
   "metadata": {},
   "outputs": [],
   "source": [
    "main_submission.set_index('city',inplace=True)"
   ]
  },
  {
   "cell_type": "code",
   "execution_count": 51,
   "id": "b09979bc",
   "metadata": {},
   "outputs": [],
   "source": [
    "main_submission_round = main_submission.copy()"
   ]
  },
  {
   "cell_type": "code",
   "execution_count": 52,
   "id": "65bb2479",
   "metadata": {},
   "outputs": [],
   "source": [
    "main_submission_round['total_cases'] = main_submission_round['total_cases'].round(0)"
   ]
  },
  {
   "cell_type": "code",
   "execution_count": 53,
   "id": "6867fe44",
   "metadata": {},
   "outputs": [
    {
     "data": {
      "text/html": [
       "<div>\n",
       "<style scoped>\n",
       "    .dataframe tbody tr th:only-of-type {\n",
       "        vertical-align: middle;\n",
       "    }\n",
       "\n",
       "    .dataframe tbody tr th {\n",
       "        vertical-align: top;\n",
       "    }\n",
       "\n",
       "    .dataframe thead th {\n",
       "        text-align: right;\n",
       "    }\n",
       "</style>\n",
       "<table border=\"1\" class=\"dataframe\">\n",
       "  <thead>\n",
       "    <tr style=\"text-align: right;\">\n",
       "      <th></th>\n",
       "      <th>year</th>\n",
       "      <th>weekofyear</th>\n",
       "      <th>total_cases</th>\n",
       "    </tr>\n",
       "    <tr>\n",
       "      <th>city</th>\n",
       "      <th></th>\n",
       "      <th></th>\n",
       "      <th></th>\n",
       "    </tr>\n",
       "  </thead>\n",
       "  <tbody>\n",
       "    <tr>\n",
       "      <th>sj</th>\n",
       "      <td>2008</td>\n",
       "      <td>18</td>\n",
       "      <td>6.0</td>\n",
       "    </tr>\n",
       "    <tr>\n",
       "      <th>sj</th>\n",
       "      <td>2008</td>\n",
       "      <td>19</td>\n",
       "      <td>5.0</td>\n",
       "    </tr>\n",
       "    <tr>\n",
       "      <th>sj</th>\n",
       "      <td>2008</td>\n",
       "      <td>20</td>\n",
       "      <td>8.0</td>\n",
       "    </tr>\n",
       "    <tr>\n",
       "      <th>sj</th>\n",
       "      <td>2008</td>\n",
       "      <td>21</td>\n",
       "      <td>4.0</td>\n",
       "    </tr>\n",
       "    <tr>\n",
       "      <th>sj</th>\n",
       "      <td>2008</td>\n",
       "      <td>22</td>\n",
       "      <td>3.0</td>\n",
       "    </tr>\n",
       "  </tbody>\n",
       "</table>\n",
       "</div>"
      ],
      "text/plain": [
       "      year  weekofyear  total_cases\n",
       "city                               \n",
       "sj    2008          18          6.0\n",
       "sj    2008          19          5.0\n",
       "sj    2008          20          8.0\n",
       "sj    2008          21          4.0\n",
       "sj    2008          22          3.0"
      ]
     },
     "execution_count": 53,
     "metadata": {},
     "output_type": "execute_result"
    }
   ],
   "source": [
    "main_submission_round.head()"
   ]
  },
  {
   "cell_type": "code",
   "execution_count": 54,
   "id": "6e54c067",
   "metadata": {},
   "outputs": [],
   "source": [
    "main_submission_round['total_cases'] = main_submission_round['total_cases'].astype('int64')"
   ]
  },
  {
   "cell_type": "code",
   "execution_count": 55,
   "id": "0394f890",
   "metadata": {},
   "outputs": [
    {
     "data": {
      "text/html": [
       "<div>\n",
       "<style scoped>\n",
       "    .dataframe tbody tr th:only-of-type {\n",
       "        vertical-align: middle;\n",
       "    }\n",
       "\n",
       "    .dataframe tbody tr th {\n",
       "        vertical-align: top;\n",
       "    }\n",
       "\n",
       "    .dataframe thead th {\n",
       "        text-align: right;\n",
       "    }\n",
       "</style>\n",
       "<table border=\"1\" class=\"dataframe\">\n",
       "  <thead>\n",
       "    <tr style=\"text-align: right;\">\n",
       "      <th></th>\n",
       "      <th>year</th>\n",
       "      <th>weekofyear</th>\n",
       "      <th>total_cases</th>\n",
       "    </tr>\n",
       "    <tr>\n",
       "      <th>city</th>\n",
       "      <th></th>\n",
       "      <th></th>\n",
       "      <th></th>\n",
       "    </tr>\n",
       "  </thead>\n",
       "  <tbody>\n",
       "    <tr>\n",
       "      <th>sj</th>\n",
       "      <td>2009</td>\n",
       "      <td>14</td>\n",
       "      <td>-2</td>\n",
       "    </tr>\n",
       "    <tr>\n",
       "      <th>sj</th>\n",
       "      <td>2011</td>\n",
       "      <td>11</td>\n",
       "      <td>-3</td>\n",
       "    </tr>\n",
       "    <tr>\n",
       "      <th>sj</th>\n",
       "      <td>2013</td>\n",
       "      <td>12</td>\n",
       "      <td>-1</td>\n",
       "    </tr>\n",
       "    <tr>\n",
       "      <th>iq</th>\n",
       "      <td>2013</td>\n",
       "      <td>25</td>\n",
       "      <td>-1</td>\n",
       "    </tr>\n",
       "  </tbody>\n",
       "</table>\n",
       "</div>"
      ],
      "text/plain": [
       "      year  weekofyear  total_cases\n",
       "city                               \n",
       "sj    2009          14           -2\n",
       "sj    2011          11           -3\n",
       "sj    2013          12           -1\n",
       "iq    2013          25           -1"
      ]
     },
     "execution_count": 55,
     "metadata": {},
     "output_type": "execute_result"
    }
   ],
   "source": [
    "main_submission_round[main_submission_round['total_cases'] < 0]"
   ]
  },
  {
   "cell_type": "code",
   "execution_count": 56,
   "id": "f670aaaa",
   "metadata": {},
   "outputs": [],
   "source": [
    "main_submission_round['total_cases'] = main_submission_round['total_cases'].apply(lambda x: x if x>=0 else 0)"
   ]
  },
  {
   "cell_type": "code",
   "execution_count": 57,
   "id": "999d45f0",
   "metadata": {},
   "outputs": [
    {
     "data": {
      "text/html": [
       "<div>\n",
       "<style scoped>\n",
       "    .dataframe tbody tr th:only-of-type {\n",
       "        vertical-align: middle;\n",
       "    }\n",
       "\n",
       "    .dataframe tbody tr th {\n",
       "        vertical-align: top;\n",
       "    }\n",
       "\n",
       "    .dataframe thead th {\n",
       "        text-align: right;\n",
       "    }\n",
       "</style>\n",
       "<table border=\"1\" class=\"dataframe\">\n",
       "  <thead>\n",
       "    <tr style=\"text-align: right;\">\n",
       "      <th></th>\n",
       "      <th>year</th>\n",
       "      <th>weekofyear</th>\n",
       "      <th>total_cases</th>\n",
       "    </tr>\n",
       "    <tr>\n",
       "      <th>city</th>\n",
       "      <th></th>\n",
       "      <th></th>\n",
       "      <th></th>\n",
       "    </tr>\n",
       "  </thead>\n",
       "  <tbody>\n",
       "  </tbody>\n",
       "</table>\n",
       "</div>"
      ],
      "text/plain": [
       "Empty DataFrame\n",
       "Columns: [year, weekofyear, total_cases]\n",
       "Index: []"
      ]
     },
     "execution_count": 57,
     "metadata": {},
     "output_type": "execute_result"
    }
   ],
   "source": [
    "main_submission_round[main_submission_round['total_cases'] < 0]"
   ]
  },
  {
   "cell_type": "code",
   "execution_count": 58,
   "id": "5cf191b7",
   "metadata": {},
   "outputs": [],
   "source": [
    "main_submission_round.to_csv('submission_prophet_new_three_feat_1.csv')"
   ]
  },
  {
   "cell_type": "code",
   "execution_count": null,
   "id": "d6daf3c5",
   "metadata": {},
   "outputs": [],
   "source": []
  }
 ],
 "metadata": {
  "kernelspec": {
   "display_name": "Python 3 (ipykernel)",
   "language": "python",
   "name": "python3"
  },
  "language_info": {
   "codemirror_mode": {
    "name": "ipython",
    "version": 3
   },
   "file_extension": ".py",
   "mimetype": "text/x-python",
   "name": "python",
   "nbconvert_exporter": "python",
   "pygments_lexer": "ipython3",
   "version": "3.8.13"
  }
 },
 "nbformat": 4,
 "nbformat_minor": 5
}
